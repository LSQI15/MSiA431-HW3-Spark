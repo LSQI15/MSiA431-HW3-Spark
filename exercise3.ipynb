{
 "cells": [
  {
   "cell_type": "code",
   "execution_count": 1,
   "metadata": {},
   "outputs": [
    {
     "data": {
      "application/vnd.jupyter.widget-view+json": {
       "model_id": "7afa8f10265d440681ba240367bd8cae",
       "version_major": 2,
       "version_minor": 0
      },
      "text/plain": [
       "VBox()"
      ]
     },
     "metadata": {},
     "output_type": "display_data"
    },
    {
     "name": "stdout",
     "output_type": "stream",
     "text": [
      "Starting Spark application\n"
     ]
    },
    {
     "data": {
      "text/html": [
       "<table>\n",
       "<tr><th>ID</th><th>YARN Application ID</th><th>Kind</th><th>State</th><th>Spark UI</th><th>Driver log</th><th>Current session?</th></tr><tr><td>0</td><td>application_1591887700321_0001</td><td>pyspark</td><td>idle</td><td><a target=\"_blank\" href=\"http://ip-172-31-84-225.ec2.internal:20888/proxy/application_1591887700321_0001/\">Link</a></td><td><a target=\"_blank\" href=\"http://ip-172-31-88-102.ec2.internal:8042/node/containerlogs/container_1591887700321_0001_01_000001/livy\">Link</a></td><td>✔</td></tr></table>"
      ],
      "text/plain": [
       "<IPython.core.display.HTML object>"
      ]
     },
     "metadata": {},
     "output_type": "display_data"
    },
    {
     "data": {
      "application/vnd.jupyter.widget-view+json": {
       "model_id": "",
       "version_major": 2,
       "version_minor": 0
      },
      "text/plain": [
       "FloatProgress(value=0.0, bar_style='info', description='Progress:', layout=Layout(height='25px', width='50%'),…"
      ]
     },
     "metadata": {},
     "output_type": "display_data"
    },
    {
     "name": "stdout",
     "output_type": "stream",
     "text": [
      "SparkSession available as 'spark'.\n"
     ]
    },
    {
     "data": {
      "application/vnd.jupyter.widget-view+json": {
       "model_id": "",
       "version_major": 2,
       "version_minor": 0
      },
      "text/plain": [
       "FloatProgress(value=0.0, bar_style='info', description='Progress:', layout=Layout(height='25px', width='50%'),…"
      ]
     },
     "metadata": {},
     "output_type": "display_data"
    }
   ],
   "source": [
    "import warnings\n",
    "warnings.filterwarnings('ignore')\n",
    "from pyspark.sql import SQLContext\n",
    "from pyspark import SparkContext\n",
    "from pyspark.sql.functions import *\n",
    "import pyspark.sql.functions as f\n",
    "from pyspark.sql.types import TimestampType\n",
    "from datetime import datetime\n",
    "from pyspark.sql.window import Window\n",
    "from pyspark.sql.types import IntegerType\n",
    "from pyspark.ml.regression import RandomForestRegressor,GBTRegressor\n",
    "from pyspark.ml.evaluation import RegressionEvaluator\n",
    "from pyspark.ml.feature import VectorAssembler\n",
    "from pyspark.ml import Pipeline\n",
    "import pandas as pd"
   ]
  },
  {
   "cell_type": "code",
   "execution_count": 3,
   "metadata": {},
   "outputs": [
    {
     "data": {
      "application/vnd.jupyter.widget-view+json": {
       "model_id": "99c3b9c89f784f90a9d31b62053db6c6",
       "version_major": 2,
       "version_minor": 0
      },
      "text/plain": [
       "VBox()"
      ]
     },
     "metadata": {},
     "output_type": "display_data"
    },
    {
     "data": {
      "application/vnd.jupyter.widget-view+json": {
       "model_id": "",
       "version_major": 2,
       "version_minor": 0
      },
      "text/plain": [
       "FloatProgress(value=0.0, bar_style='info', description='Progress:', layout=Layout(height='25px', width='50%'),…"
      ]
     },
     "metadata": {},
     "output_type": "display_data"
    }
   ],
   "source": [
    "# read data from S3\n",
    "sqlcontext = SQLContext(sc)\n",
    "path = 's3://msia431hw3/full_data.csv'\n",
    "mydata = sqlcontext.read.csv(path, header=True)"
   ]
  },
  {
   "cell_type": "code",
   "execution_count": 4,
   "metadata": {},
   "outputs": [
    {
     "data": {
      "application/vnd.jupyter.widget-view+json": {
       "model_id": "9e2e71efa6fa40f2aad06ba3812a9e36",
       "version_major": 2,
       "version_minor": 0
      },
      "text/plain": [
       "VBox()"
      ]
     },
     "metadata": {},
     "output_type": "display_data"
    },
    {
     "data": {
      "application/vnd.jupyter.widget-view+json": {
       "model_id": "",
       "version_major": 2,
       "version_minor": 0
      },
      "text/plain": [
       "FloatProgress(value=0.0, bar_style='info', description='Progress:', layout=Layout(height='25px', width='50%'),…"
      ]
     },
     "metadata": {},
     "output_type": "display_data"
    }
   ],
   "source": [
    "# change column types from string to integer\n",
    "df=mydata.select('time_stamp',*(col(c).cast(IntegerType()).alias(c) for c in mydata.columns[1:]))\n",
    "# extract month and year from time_stamp_column\n",
    "timestamp_format = 'yyyy-MM-dd'\n",
    "df=(df\n",
    "    .withColumn('DateTime',unix_timestamp(col('time_stamp'), timestamp_format).cast('timestamp'))\n",
    "    .withColumn('Year', year(col('DateTime')))\n",
    "    .withColumn('Month',month(col('DateTime'))))\n",
    "\n",
    "###################\n",
    "# generate features\n",
    "###################\n",
    "# Step1: create bar group\n",
    "#        group 0: 1<=bar<=10; \n",
    "#        group 1: 11<=bar<=20;\n",
    "#        group 2: 21<=bar<=30, etc\n",
    "# Step2: create features within each bar group\n",
    "#        the last profit (lag0), lag1 profit, lag2 profit, lag3 profit, lag4 profit, lag5 profit, \n",
    "#        average profit, and the standard deviation of profits \n",
    "df = df.orderBy([\"trade_id\", \"bar_num\"], ascending=[True, True])\n",
    "df = df.withColumn('barGroup', ((f.col('bar_num') - 1) / 10).cast('integer'))\n",
    "w = Window().partitionBy('trade_id', 'barGroup').orderBy('barGroup')\n",
    "df2 = (df\n",
    "       .select('trade_id','barGroup','bar_num','profit',\n",
    "           f.last(\"profit\",True).over(w).alias('lag0_profit'),\n",
    "           f.lag(\"profit\",1).over(w).alias('lag1_profit'),\n",
    "           f.lag(\"profit\",2).over(w).alias('lag2_profit'),\n",
    "           f.lag(\"profit\",3).over(w).alias('lag3_profit'),\n",
    "           f.lag(\"profit\",4).over(w).alias('lag4_profit'),\n",
    "           f.lag(\"profit\",5).over(w).alias('lag5_profit'),\n",
    "           f.mean(col('profit')).over(w).alias('mean_profit'),\n",
    "           f.stddev(col('profit')).over(w).alias('std_profit'))\n",
    "       .filter(col('bar_num')%10==0)\n",
    "       .orderBy([\"trade_id\", \"barGroup\"], ascending=[True, True]))\n",
    "# Step 3: add a column for joining features back to the original dataframe\n",
    "#         bargroup 1 (bar_number 11-20) will use features generated using profits in bargroup 0 (1-10)\n",
    "#         bargroup 2 (bar_number 21-30) will use features generated using profits in bargourp 1 (11-20)\n",
    "#         etc.\n",
    "df2 = (df2\n",
    "       .withColumn('next_barGroup', f.col('barGroup') + 1)\n",
    "       .select('trade_id', 'lag0_profit', 'lag1_profit','lag2_profit','lag3_profit','lag4_profit','lag5_profit',\n",
    "                   'mean_profit', 'std_profit','next_barGroup')\n",
    "       .withColumnRenamed('trade_id', 't_trade_id'))\n",
    "# Step 4: join features back to the original data frame\n",
    "merged_df = df.join(df2, on=(df.barGroup == df2.next_barGroup) & (df.trade_id == df2.t_trade_id), how='left')\n",
    "# Step 5: keep only data for with bar_num >10; there is nothing to predict for bar 1-10\n",
    "final_df = merged_df.filter(f.col('bar_num') > 10)"
   ]
  },
  {
   "cell_type": "code",
   "execution_count": 5,
   "metadata": {},
   "outputs": [
    {
     "data": {
      "application/vnd.jupyter.widget-view+json": {
       "model_id": "98d6e54616284fd2a52a0e99773a104a",
       "version_major": 2,
       "version_minor": 0
      },
      "text/plain": [
       "VBox()"
      ]
     },
     "metadata": {},
     "output_type": "display_data"
    },
    {
     "data": {
      "application/vnd.jupyter.widget-view+json": {
       "model_id": "",
       "version_major": 2,
       "version_minor": 0
      },
      "text/plain": [
       "FloatProgress(value=0.0, bar_style='info', description='Progress:', layout=Layout(height='25px', width='50%'),…"
      ]
     },
     "metadata": {},
     "output_type": "display_data"
    }
   ],
   "source": [
    "def model_trainer(final_df, train_year, train_start_month, train_end_month, test_year ,test_month):\n",
    "    \"\"\"\n",
    "    :param raw_df: original dataframe\n",
    "    :param train_year: the year of the data used for training\n",
    "    :param train_start_month: the first month of the data used for training\n",
    "    :param train_end_month: the last month of the data used for training\n",
    "    :param test_year: the year of the data used for training\n",
    "    :param test_month: month of the data used for testing\n",
    "    :return mape: the MAPE in the test set\n",
    "    \"\"\"\n",
    "    # select features\n",
    "    target = 'profit'\n",
    "    features = ['bar_num', 'var12', 'var13', 'var14', 'var15', 'var16', 'var17', 'var18', 'var23', 'var24', 'var25',\n",
    "                'var26', 'var27', 'var28', 'var34', 'var35', 'var36', 'var37', 'var38', 'var45', 'var46', 'var47',\n",
    "                'var48', 'var56', 'var57', 'var58', 'var67', 'var68', 'var78',\n",
    "                'lag0_profit', 'lag1_profit','lag2_profit','lag3_profit','lag4_profit','lag5_profit',\n",
    "                'mean_profit', 'std_profit'\n",
    "               ]\n",
    "    # make model pipeline\n",
    "    assembler = VectorAssembler(inputCols=features, outputCol='features').setHandleInvalid('skip')\n",
    "    rf = RandomForestRegressor(labelCol=\"profit\", featuresCol=\"features\")\n",
    "    pipeline = Pipeline(stages=[assembler, rf])\n",
    "    # train & test split\n",
    "    train = (final_df\n",
    "             .filter(f.col('Year') == train_year)\n",
    "             .filter((f.col('Month') >= train_start_month) & (f.col('Month') <= train_end_month))\n",
    "             .select('profit', *(c for c in features)))\n",
    "    test = (final_df\n",
    "            .filter(f.col('Year') == test_year)\n",
    "            .filter(f.col('Month') == test_month)\n",
    "            .select('profit', *(c for c in features)))\n",
    "    # fit the model pipeline\n",
    "    model = pipeline.fit(train)\n",
    "    predictions = model.transform(test)\n",
    "    predictions2 = predictions.select(f.col(\"profit\").cast(\"Float\"), f.col(\"prediction\"))\n",
    "    predictions2 = predictions2.withColumn('ape', \n",
    "                                           100*(abs((f.col('profit') - f.col('prediction')) / f.col('profit')))\n",
    "                                          )\n",
    "    mape_df = predictions2.select(\n",
    "        f.mean(f.col('ape')).alias('mape')\n",
    "    ).collect()\n",
    "    mape = mape_df[0]['mape']\n",
    "    return mape"
   ]
  },
  {
   "cell_type": "code",
   "execution_count": 6,
   "metadata": {},
   "outputs": [
    {
     "data": {
      "application/vnd.jupyter.widget-view+json": {
       "model_id": "4760fbb6424d4c75a405438803e8fe46",
       "version_major": 2,
       "version_minor": 0
      },
      "text/plain": [
       "VBox()"
      ]
     },
     "metadata": {},
     "output_type": "display_data"
    },
    {
     "data": {
      "application/vnd.jupyter.widget-view+json": {
       "model_id": "",
       "version_major": 2,
       "version_minor": 0
      },
      "text/plain": [
       "FloatProgress(value=0.0, bar_style='info', description='Progress:', layout=Layout(height='25px', width='50%'),…"
      ]
     },
     "metadata": {},
     "output_type": "display_data"
    }
   ],
   "source": [
    "# train and evaluate the model in a move-forward way\n",
    "result = []\n",
    "for year in range(2008,2015):\n",
    "    result.append(model_trainer(final_df, year, 1, 6, year,7))\n",
    "    result.append(model_trainer(final_df, year, 7, 12, year+1, 1))\n",
    "result.append(model_trainer(final_df, 2015, 1, 6, 2015,7))"
   ]
  },
  {
   "cell_type": "code",
   "execution_count": 7,
   "metadata": {},
   "outputs": [
    {
     "data": {
      "application/vnd.jupyter.widget-view+json": {
       "model_id": "0001c42f5a424b59b98fae1c4c676f36",
       "version_major": 2,
       "version_minor": 0
      },
      "text/plain": [
       "VBox()"
      ]
     },
     "metadata": {},
     "output_type": "display_data"
    },
    {
     "data": {
      "application/vnd.jupyter.widget-view+json": {
       "model_id": "",
       "version_major": 2,
       "version_minor": 0
      },
      "text/plain": [
       "FloatProgress(value=0.0, bar_style='info', description='Progress:', layout=Layout(height='25px', width='50%'),…"
      ]
     },
     "metadata": {},
     "output_type": "display_data"
    },
    {
     "name": "stdout",
     "output_type": "stream",
     "text": [
      "    train_year train_month  test_year  test_month        MAPE\n",
      "0         2008         1-6       2008           7   91.213214\n",
      "1         2008        7-12       2009           1   98.175736\n",
      "2         2009         1-6       2009           7  100.824119\n",
      "3         2009        7-12       2010           1  100.706145\n",
      "4         2010         1-6       2010           7   88.559656\n",
      "5         2010        7-12       2011           1  109.575925\n",
      "6         2011         1-6       2011           7   96.151673\n",
      "7         2011        7-12       2012           1   81.414553\n",
      "8         2012         1-6       2012           7   85.855130\n",
      "9         2012        7-12       2013           1  101.935518\n",
      "10        2013         1-6       2013           7   95.270407\n",
      "11        2013        7-12       2014           1   84.757486\n",
      "12        2014         1-6       2014           7   63.905213\n",
      "13        2014        7-12       2015           1  104.782507\n",
      "14        2015         1-6       2015           7   99.133207"
     ]
    }
   ],
   "source": [
    "# format model results\n",
    "import pandas as pd\n",
    "d = {'train_year': [y for y in range(2008,2015) for i in range(2)]+[2015], \n",
    "     'train_month': ['1-6','7-12']*7+['1-6'],\n",
    "     'test_year':[2008]+[y for y in range(2009,2016) for i in range(2)],\n",
    "     'test_month':[7,1]*7+[7],\n",
    "     'MAPE':result\n",
    "    }\n",
    "output = pd.DataFrame(data=d)\n",
    "output"
   ]
  },
  {
   "cell_type": "code",
   "execution_count": 8,
   "metadata": {},
   "outputs": [
    {
     "data": {
      "application/vnd.jupyter.widget-view+json": {
       "model_id": "5ff9f902454a48a29ffd00bc0b7ac492",
       "version_major": 2,
       "version_minor": 0
      },
      "text/plain": [
       "VBox()"
      ]
     },
     "metadata": {},
     "output_type": "display_data"
    },
    {
     "data": {
      "application/vnd.jupyter.widget-view+json": {
       "model_id": "",
       "version_major": 2,
       "version_minor": 0
      },
      "text/plain": [
       "FloatProgress(value=0.0, bar_style='info', description='Progress:', layout=Layout(height='25px', width='50%'),…"
      ]
     },
     "metadata": {},
     "output_type": "display_data"
    },
    {
     "name": "stdout",
     "output_type": "stream",
     "text": [
      "    AVG_MAPE    MAX_MAPE   MIN_MAPE\n",
      "0  93.484033  109.575925  63.905213"
     ]
    }
   ],
   "source": [
    "# calculate min/max/avg MAP\n",
    "d2 = {'AVG_MAPE': [output.MAPE.mean()], \n",
    "     'MAX_MAPE': [output.MAPE.max()],\n",
    "     'MIN_MAPE':[output.MAPE.min()]\n",
    "    }\n",
    "output2 = pd.DataFrame(data=d2)\n",
    "output2"
   ]
  },
  {
   "cell_type": "code",
   "execution_count": 9,
   "metadata": {},
   "outputs": [
    {
     "data": {
      "application/vnd.jupyter.widget-view+json": {
       "model_id": "2c7bc542eecd45e0a870096e0f91d456",
       "version_major": 2,
       "version_minor": 0
      },
      "text/plain": [
       "VBox()"
      ]
     },
     "metadata": {},
     "output_type": "display_data"
    },
    {
     "data": {
      "application/vnd.jupyter.widget-view+json": {
       "model_id": "",
       "version_major": 2,
       "version_minor": 0
      },
      "text/plain": [
       "FloatProgress(value=0.0, bar_style='info', description='Progress:', layout=Layout(height='25px', width='50%'),…"
      ]
     },
     "metadata": {},
     "output_type": "display_data"
    }
   ],
   "source": [
    "# save output file to S3\n",
    "output.to_csv('s3://msia431hw3/Exercise3.txt', header=True, index=False, sep=',')\n",
    "output2.to_csv('s3://msia431hw3/Exercise3.txt', header=True, index=False, sep=',',mode='a')"
   ]
  },
  {
   "cell_type": "code",
   "execution_count": 10,
   "metadata": {},
   "outputs": [
    {
     "data": {
      "application/vnd.jupyter.widget-view+json": {
       "model_id": "2f2b8e560a28478fa0dcd1d36ff99c43",
       "version_major": 2,
       "version_minor": 0
      },
      "text/plain": [
       "VBox()"
      ]
     },
     "metadata": {},
     "output_type": "display_data"
    },
    {
     "data": {
      "application/vnd.jupyter.widget-view+json": {
       "model_id": "",
       "version_major": 2,
       "version_minor": 0
      },
      "text/plain": [
       "FloatProgress(value=0.0, bar_style='info', description='Progress:', layout=Layout(height='25px', width='50%'),…"
      ]
     },
     "metadata": {},
     "output_type": "display_data"
    },
    {
     "name": "stdout",
     "output_type": "stream",
     "text": [
      "    idx         name     score\n",
      "29   29  lag0_profit  0.336782\n",
      "30   30  lag1_profit  0.207024\n",
      "35   35  mean_profit  0.144983\n",
      "31   31  lag2_profit  0.097248\n",
      "33   33  lag4_profit  0.080344\n",
      "32   32  lag3_profit  0.066161\n",
      "34   34  lag5_profit  0.047213\n",
      "11   11        var26  0.002399\n",
      "20   20        var46  0.002190\n",
      "21   21        var47  0.002146"
     ]
    }
   ],
   "source": [
    "# calculate feature importance to verify whether feature engineering helps\n",
    "features = ['bar_num', \n",
    "            'var12', 'var13', 'var14', 'var15', 'var16', 'var17', 'var18', 'var23', 'var24', 'var25',\n",
    "            'var26', 'var27', 'var28', 'var34', 'var35', 'var36', 'var37', 'var38', 'var45', 'var46', 'var47',\n",
    "            'var48', 'var56', 'var57', 'var58', 'var67', 'var68', 'var78',\n",
    "            'lag0_profit', 'lag1_profit','lag2_profit','lag3_profit','lag4_profit','lag5_profit',\n",
    "            'mean_profit', 'std_profit'\n",
    "           ]\n",
    "# make model pipeline\n",
    "assembler = VectorAssembler(inputCols=features, outputCol='features').setHandleInvalid('skip')\n",
    "rf = RandomForestRegressor(labelCol=\"profit\", featuresCol=\"features\")\n",
    "pipeline = Pipeline(stages=[assembler, rf])\n",
    "# train & test split\n",
    "train = (final_df\n",
    "         .filter(f.col('Year') == 2008)\n",
    "         .filter((f.col('Month') >= 1) & (f.col('Month') <= 6))\n",
    "         .select('profit', *(c for c in features)))\n",
    "test = (final_df\n",
    "        .filter(f.col('Year') == 2008)\n",
    "        .filter(f.col('Month') == 7)\n",
    "        .select('profit', *(c for c in features)))\n",
    "# fit the model pipeline\n",
    "model = pipeline.fit(train)\n",
    "\n",
    "def ExtractFeatureImp(featureImp, dataset, featuresCol):\n",
    "    list_extract = []\n",
    "    for i in dataset.schema[featuresCol].metadata[\"ml_attr\"][\"attrs\"]:\n",
    "        list_extract = list_extract + dataset.schema[featuresCol].metadata[\"ml_attr\"][\"attrs\"][i]\n",
    "    varlist = pd.DataFrame(list_extract)\n",
    "    varlist['score'] = varlist['idx'].apply(lambda x: featureImp[x])\n",
    "    return(varlist.sort_values('score', ascending = False))\n",
    "\n",
    "# calculate feature importance\n",
    "t = model.transform(train)\n",
    "feature_Imp = ExtractFeatureImp(model.stages[-1].featureImportances, t, \"features\")\n",
    "feature_Imp.to_csv('s3://msia431hw3/Feature_Importance.csv')\n",
    "feature_Imp.head(10)"
   ]
  },
  {
   "cell_type": "code",
   "execution_count": 26,
   "metadata": {},
   "outputs": [
    {
     "data": {
      "application/vnd.jupyter.widget-view+json": {
       "model_id": "c53ab0ddc77b48d4bd105b122d1f3933",
       "version_major": 2,
       "version_minor": 0
      },
      "text/plain": [
       "VBox()"
      ]
     },
     "metadata": {},
     "output_type": "display_data"
    },
    {
     "data": {
      "application/vnd.jupyter.widget-view+json": {
       "model_id": "",
       "version_major": 2,
       "version_minor": 0
      },
      "text/plain": [
       "FloatProgress(value=0.0, bar_style='info', description='Progress:', layout=Layout(height='25px', width='50%'),…"
      ]
     },
     "metadata": {},
     "output_type": "display_data"
    },
    {
     "data": {
      "image/png": "[encoded data removed]",
      "text/plain": [
       "<IPython.core.display.Image object>"
      ]
     },
     "metadata": {},
     "output_type": "display_data"
    }
   ],
   "source": [
    "import matplotlib\n",
    "import matplotlib.pyplot as plt\n",
    "# feature importance plot\n",
    "ax = feature_Imp.plot(x='name', y='score', figsize=(12, 9),\n",
    "                     title=\"Random Forest Classifier - Feature Importance\", kind='barh')\n",
    "ax.invert_yaxis()\n",
    "ax.legend(loc='lower right')\n",
    "plt.show()\n",
    "%matplot plt"
   ]
  }
 ],
 "metadata": {
  "kernelspec": {
   "display_name": "Python 3",
   "language": "python",
   "name": "python3"
  },
  "language_info": {
   "codemirror_mode": {
    "name": "ipython",
    "version": 3
   },
   "file_extension": ".py",
   "mimetype": "text/x-python",
   "name": "python",
   "nbconvert_exporter": "python",
   "pygments_lexer": "ipython3",
   "version": "3.7.6"
  }
 },
 "nbformat": 4,
 "nbformat_minor": 4
}
